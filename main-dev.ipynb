{
 "cells": [
  {
   "cell_type": "code",
   "execution_count": 7,
   "metadata": {
    "collapsed": true
   },
   "outputs": [],
   "source": [
    "# Purpose: Keep congress members informed\n",
    "# of what is being said about them on Twitter.\n",
    "\n",
    "import twitter\n",
    "import stop_words\n",
    "from collections import Counter"
   ]
  },
  {
   "cell_type": "code",
   "execution_count": 8,
   "metadata": {
    "collapsed": true
   },
   "outputs": [],
   "source": [
    "results = []\n",
    "with open('./user_info.txt') as inputfile:\n",
    "    for line in inputfile:\n",
    "        results.append(line.strip().split(','))\n",
    "\n",
    "cons_key = results[0][0]\n",
    "cons_secret = results[1][0]\n",
    "acc_tok = results[2][0]\n",
    "acc_tok_sec = results[3][0]\n",
    "\n",
    "# Log in\n",
    "api = twitter.Api(consumer_key=cons_key,\n",
    "                  consumer_secret=cons_secret,\n",
    "                  access_token_key=acc_tok,\n",
    "                  access_token_secret=acc_tok_sec, \n",
    "                  sleep_on_rate_limit=True)"
   ]
  },
  {
   "cell_type": "code",
   "execution_count": 33,
   "metadata": {
    "collapsed": false
   },
   "outputs": [],
   "source": [
    "# Get the relevant tweets.\n",
    "# Get geocoded tweets as \n",
    "# we can filter based on likely \n",
    "# constituents. \n",
    "# This sets a point in the \n",
    "# middle of the state based on\n",
    "# this:\n",
    "# http://www.latlong.net/\n",
    "results = api.GetSearch(term='-RT @bryancshepherd', lang='en', \n",
    "                        since='2016-12-27',\n",
    "                        result_type='recent', \n",
    "                        count='100',\n",
    "                        # geocode=\"35.511828,-78.804932,250mi\"\n",
    "                       )"
   ]
  },
  {
   "cell_type": "code",
   "execution_count": 34,
   "metadata": {
    "collapsed": false
   },
   "outputs": [
    {
     "data": {
      "text/plain": [
       "2"
      ]
     },
     "execution_count": 34,
     "metadata": {},
     "output_type": "execute_result"
    }
   ],
   "source": [
    "len(results)"
   ]
  },
  {
   "cell_type": "code",
   "execution_count": 35,
   "metadata": {
    "collapsed": true
   },
   "outputs": [],
   "source": [
    "corpus = ''.join([result.text for result in results])"
   ]
  },
  {
   "cell_type": "code",
   "execution_count": 37,
   "metadata": {
    "collapsed": false
   },
   "outputs": [
    {
     "name": "stdout",
     "output_type": "stream",
     "text": [
      "Counter({u'saying': 1, u'FALSE': 1, u'#rstats': 1, u'MPL': 1, u'False.@bryancshepherd': 1, u'@fulhack': 1, u'way': 1, u'\\U0001f62c': 1, u'intuitive?': 1, u'@bryancshepherd': 1, u'@adamlaiacano': 1})\n"
     ]
    }
   ],
   "source": [
    "word_list = corpus.split()\n",
    "sws = stop_words.get_stop_words('en')\n",
    "cleaned_word_list = [x for x in word_list if x not in sws]\n",
    "counts = Counter(cleaned_word_list)\n",
    "print(counts)"
   ]
  },
  {
   "cell_type": "code",
   "execution_count": 23,
   "metadata": {
    "collapsed": false
   },
   "outputs": [],
   "source": []
  },
  {
   "cell_type": "code",
   "execution_count": null,
   "metadata": {
    "collapsed": true
   },
   "outputs": [],
   "source": []
  },
  {
   "cell_type": "code",
   "execution_count": null,
   "metadata": {
    "collapsed": true
   },
   "outputs": [],
   "source": []
  }
 ],
 "metadata": {
  "anaconda-cloud": {},
  "kernelspec": {
   "display_name": "Python [conda env:python2]",
   "language": "python",
   "name": "conda-env-python2-py"
  },
  "language_info": {
   "codemirror_mode": {
    "name": "ipython",
    "version": 2
   },
   "file_extension": ".py",
   "mimetype": "text/x-python",
   "name": "python",
   "nbconvert_exporter": "python",
   "pygments_lexer": "ipython2",
   "version": "2.7.12"
  }
 },
 "nbformat": 4,
 "nbformat_minor": 1
}

{
 "cells": [
  {
   "cell_type": "code",
   "execution_count": 61,
   "metadata": {
    "collapsed": true
   },
   "outputs": [],
   "source": [
    "# Purpose: Keep congress members informed\n",
    "# of what is being said about them on Twitter.\n",
    "\n",
    "import twitter"
   ]
  },
  {
   "cell_type": "code",
   "execution_count": 62,
   "metadata": {
    "collapsed": true
   },
   "outputs": [],
   "source": [
    "results = []\n",
    "with open('./user_info.txt') as inputfile:\n",
    "    for line in inputfile:\n",
    "        results.append(line.strip().split(','))\n",
    "\n",
    "cons_key = results[0][0]\n",
    "cons_secret = results[1][0]\n",
    "acc_tok = results[2][0]\n",
    "acc_tok_sec = results[3][0]\n",
    "\n",
    "# Log in\n",
    "api = twitter.Api(consumer_key=cons_key,\n",
    "                  consumer_secret=cons_secret,\n",
    "                  access_token_key=acc_tok,\n",
    "                  access_token_secret=acc_tok_sec, \n",
    "                  sleep_on_rate_limit=True)"
   ]
  },
  {
   "cell_type": "code",
   "execution_count": 66,
   "metadata": {
    "collapsed": false
   },
   "outputs": [],
   "source": [
    "# Get the relevant tweets.\n",
    "# Get geocoded tweets as \n",
    "# we can filter based on likely \n",
    "# constituents. \n",
    "# This sets a point in the \n",
    "# middle of the state based on\n",
    "# this:\n",
    "# http://www.latlong.net/\n",
    "results = api.GetSearch(term='-RT @thomtillis', lang='en', \n",
    "                        since='2016-12-27',\n",
    "                        result_type='recent', \n",
    "                        count='100',\n",
    "                        # geocode=\"35.511828,-78.804932,250mi\"\n",
    "                       )"
   ]
  },
  {
   "cell_type": "code",
   "execution_count": 67,
   "metadata": {
    "collapsed": false
   },
   "outputs": [
    {
     "data": {
      "text/plain": [
       "50"
      ]
     },
     "execution_count": 67,
     "metadata": {},
     "output_type": "execute_result"
    }
   ],
   "source": [
    "len(results)"
   ]
  },
  {
   "cell_type": "code",
   "execution_count": 79,
   "metadata": {
    "collapsed": true
   },
   "outputs": [],
   "source": [
    "corpus = ''.join([result.text for result in results])"
   ]
  },
  {
   "cell_type": "code",
   "execution_count": 80,
   "metadata": {
    "collapsed": false
   },
   "outputs": [
    {
     "name": "stdout",
     "output_type": "stream",
     "text": [
      "Counter({u'to': 24, u'@ThomTillis': 17, u'the': 15, u'for': 11, u'of': 11, u'is': 9, u'on': 9, u'@SenatorBurr': 8, u'in': 8, u'&amp;': 8, u'you': 8, u'this': 7, u'a': 7, u'and': 7, u'your': 6, u'what': 4, u'not': 4, u'Rights': 4, u'Watch': 3, u'#FreeBiafra': 3, u'Britain-cum-Nigeria': 3, u'genocide': 3, u'them': 3, u'#BIAFRA': 3, u'vote': 3, u'that': 3, u'exposed.': 3, u'sponsored': 3, u'Congressional': 3, u'enough': 3, u'foreign': 3, u'#FreeNnamdiKanu': 3, u'be': 3, u'@ThomTillis,': 3, u'or': 3, u'he': 3, u'this:': 3, u'as': 3, u'Jim': 2, u'will': 2, u'let': 2, u'Crimes': 2, u'Group': 2, u'Support': 2, u'@SenatorSessions': 2, u'Banking': 2, u'join': 2, u'can': 2, u'@SenateDems': 2, u'my': 2, u'end': 2, u'how': 2, u'link:': 2, u'constituents': 2, u'good': 2, u'Please': 2, u'trail': 2, u'Say': 2, u'reason': 2, u'trial.': 2, u'Human': 2, u'open': 2, u'@SenThomTillis': 2, u'their': 2, u'See': 2, u'Sen': 2, u'any': 2, u'Do': 2, u'@SenJohnMcCain': 2, u'We': 2, u'should': 2, u'his': 2, u'Voting': 2, u'him': 2, u'plse': 2, u'are': 2, u'deplores': 2, u'against': 2, u'secret': 2, u\"doesn't\": 2, u'demand': 2, u'it': 2, u'I': 2, u'Senate': 2, u'actions': 2, u'historic': 2, u'know': 2, u'#NnamdiKanu,': 2, u'@SenateGOP': 2, u'stand': 2, u'U': 2, u'NO': 2, u'Office': 2, u'up': 2, u'an': 2, u'no': 2, u'AG': 2, u'Act': 2, u'calls': 2, u'#ACA': 2, u'represent': 1, u'all': 1, u'president\\u2019s': 1, u'#ActOnClimate.': 1, u'lack': 1, u'@GKButterfield': 1, u'/': 1, u'up.': 1, u'votes': 1, u'send': 1, u'#TrumpLeaks': 1, u'Committee.@ThomTillis': 1, u'under': 1, u'Not': 1, u'appointment': 1, u'https://t.co/cMN5qUgZcD.': 1, u'very': 1, u'countries@GOP': 1, u'telling': 1, u'yourselves': 1, u'@MatthewsncCOC': 1, u'@NAACP@SenatorBurr': 1, u'--': 1, u'AG!': 1, u'standards': 1, u'https://t.co/OW82PggAHO\\u201cI': 1, u'gut': 1, u'https://t.co/H5Rb9C0qcJ': 1, u'says': 1, u'Boy': 1, u'@sendavidperdue': 1, u'GONE!!!!Will': 1, u'.@SenatorSessions': 1, u'HIM!': 1, u'even': 1, u'https://t.co/CkSqkjTnTgSave': 1, u'health,': 1, u'supporting': 1, u'@ThomTillisThe': 1, u'PUT': 1, u'Palestinians': 1, u'ever-loving': 1, u'My': 1, u'great': 1, u\"Sessions'\": 1, u'daughter': 1, u'Sessions!': 1, u'CBD': 1, u'Your': 1, u'@RichHudson:': 1, u'NOT': 1, u'https://t.co/vTSSH4OFASFor': 1, u'makes': 1, u'via': 1, u'MEXICO': 1, u\"It's\": 1, u'Democ\\u2026': 1, u'America.': 1, u'colors,': 1, u'#toastmaster': 1, u'crisis': 1, u'from': 1, u'would': 1, u'illegal': 1, u'https://t.co/mY4Wwe9F1Y@ThomTillis': 1, u'up.@ThomTillis': 1, u'more': 1, u'@SenatorBurr:': 1, u'acceptable': 1, u'American': 1, u'@SenatorBurr,': 1, u'https://t.co/U7aQyObi92': 1, u'hole': 1, u'hold': 1, u'me': 1, u'rights': 1, u'science': 1, u'repro': 1, u'SO': 1, u'voters.': 1, u'want': 1, u'subsidies': 1, u'states': 1, u'Ethics!': 1, u'confirmation': 1, u'CAN': 1, u'NC.': 1, u'https://t.co/JOnDXyFLhd@ThomTillis': 1, u'Cause': 1, u'Ethics.': 1, u'@RepDavidEPrice': 1, u'#ncgaHi': 1, u'https://t.co/dp4bwCF2tJDear': 1, u'answer': 1, u'establishment': 1, u\"He'll\": 1, u'https://t.co/niXwgBj966@ThomTillis': 1, u'#StopSessions': 1, u'stop': 1, u'#civilrights\\u2026': 1, u'Will': 1, u'confirmed,': 1, u'provide': 1, u'so': 1, u'https://t.co/gBU0pat5K7@ThomTillis': 1, u'What': 1, u\"don't\": 1, u'epilepsy': 1, u\"won't\": 1, u'looks': 1, u'hell': 1, u'His': 1, u'23': 1, u'resort': 1, u'covered': 1, u'yo': 1, u'it\\u2026': 1, u'qualified': 1, u'constituent,': 1, u'now': 1, u'Help!!': 1, u'tweet,': 1, u\"Trump's\": 1, u'nauseous': 1, u'Shame': 1, u'Thanks': 1, u'@JohnKennedyLA': 1, u'confirmation!': 1, u'DONT': 1, u'independent': 1, u'\"intrusive': 1, u'campaign.': 1, u'appointment.': 1, u'measure': 1, u'our': 1, u'sexual': 1, u'special': 1, u'really': 1, u'https://t.co/4weWyVeER4@ThomTillis': 1, u'since': 1, u'content': 1, u'ASZDear': 1, u'is,': 1, u'https://t.co/71G7R19LdiCongratulations': 1, u'Hold': 1, u'shut': 1, u'This': 1, u'@RonJohnsonWI': 1, u'Block': 1, u'@POTUS': 1, u'@thomtillis:': 1, u'@csmonitor': 1, u'keep': 1, u\"@SenatorSessions's\": 1, u'AMERICAN': 1, u'oppose': 1, u'Expect': 1, u'think': 1, u'PEOTUS': 1, u'this??': 1, u'Trump,': 1, u'Administration': 1, u'https://t.co/Z66BQ6XUwR@ThomTillis': 1, u'one': 1, u'@reppittenger': 1, u'fees': 1, u'Speaks': 1, u'millions': 1, u'#ncpol': 1, u'deceptive': 1, u'Congress': 1, u'#ImYourBoss': 1, u'steals': 1, u'passed': 1, u'SALSA': 1, u'@PatMcCroryNC': 1, u'Cover-up': 1, u'.WHY': 1, u'$$': 1, u'hotel': 1, u'WORKER': 1, u'#vitalizeoneWill': 1, u'https://t.co/tLFoMIVNEU': 1, u'2020': 1, u'endure': 1, u'Crap': 1, u'caps,': 1, u'God': 1, u'mind': 1, u'gaslighting': 1, u'have': 1, u'need': 1, u'sell': 1, u'also': 1, u'do?': 1, u'urge': 1, u'normal': 1, u'assault': 1, u'70': 1, u'pro-Israel,': 1, u'The': 1, u'Finds': 1, u'Represent': 1, u'@MikeLeeforUtah': 1, u'#poker': 1, u'Crow': 1, u'#ProtectOurCare': 1, u'latest': 1, u'alone,': 1, u'Crow-era': 1, u'legislation.\\u201d': 1, u'election@ThomTillis': 1, u'Union': 1, u'pricing.': 1, u'legalization': 1, u'traitor': 1, u'solutions': 1, u'sil\\u2026': 1, u'https://t.co/s9fMDd4lAd@realDonaldTrump': 1, u'years.@ThomTillis': 1, u'WONT': 1, u'busy': 1, u'true': 1, u'https://t.co/DXsVMmEAGt@SenatorBurr': 1, u'LIVE': 1, u'going': 1, u'believing': 1, u'Fisher': 1, u'legislation.\"': 1, u'reps': 1, u'cannot': 1, u'Stories': 1, u'@LKNChamber': 1, u'we': 1, u'trick': 1, u'corrupt': 1, u'position': 1, u'federal': 1, u'Blair': 1, u'co\\u2026': 1, u'probably': 1, u'Kind': 1, u'https://t.co/b1zUxPs1yW@ThomTillis': 1, u'@marcorubio': 1, u'@NCGOP': 1, u'admin': 1, u'many': 1, u'Ru\\u2026': 1, u'#WelcomeBack@ThomTillis': 1, u\"Tonight's\": 1, u'finds': 1, u'@cgpb.@thomtillis,': 1, u'#ethicsmatter@ThomTillis': 1, u'simply': 1, u'websites.': 1, u'shutdown': 1, u'War': 1, u'speak': 1, u'@SenatorBurr@SenatorBurr': 1, u'now!': 1, u'commission': 1, u'now?': 1, u'Accomplice.#Toastmasters': 1, u'#SanDiego': 1, u'life': 1, u'attacked': 1, u'https://t.co/mrXlt6UraB@ThomTillis': 1, u'HEY': 1, u'pie': 1, u'And': 1, u'International': 1, u'n': 1, u'chalk': 1, u'near': 1, u'country': 1, u'murders': 1, u'investigate\\u2026': 1, u'@ThomTillisThank': 1, u'cont': 1, u'@tedcruz': 1, u'over\\u2026': 1, u'ethically': 1, u'shame': 1, u'Bush': 1, u'prosecutor': 1, u'You': 1, u'#communication': 1, u'said.': 1, u'if': 1, u'Israel': 1, u'make': 1, u'https://t.co/TBavQlEzeP@ThomTillis': 1, u'bows': 1, u'https://t.co/vDHxxkBNjU': 1, u'https://t.co/hXbBDvqCBd@ThomTillis': 1, u'Tribunal': 1, u'IN': 1, u'YOU': 1, u'#SaveHealthcare': 1, u'off': 1, u'Is': 1, u'accountable': 1, u'#leaders': 1, u'@RepReneeEllmers': 1, u'https://t.co/ivqEWvVV9FAny': 1, u'If': 1, u'just': 1, u'Office.': 1, u'Americans,': 1, u'kill': 1, u'\\u201cintrusive': 1, u'decide.I': 1, u'hated': 1, u'workers': 1, u'seems': 1, u'watching..@SenatorSessions': 1, u'volumes.': 1, u'Ethics': 1, u'@ThomTillis@ThomTillis': 1, u'1986,': 1, u'kills': 1, u'Legislation': 1, u'showing': 1, u'Guilty': 1, u'https://t.co/ONkspZSNoq@SenatorSessions': 1, u'https://t.co/gBTZ4ncFyA.@thomtillis,': 1, u'Ensure': 1, u'Classy': 1, u\"Israel's\": 1, u'tick': 1, u'ON': 1, u\"states'\": 1, u'lost': 1, u'Are': 1, u'seem\\u2026': 1, u'actions.': 1, u'THEY': 1, u'twitter': 1, u'@HouseGOP': 1, u'https://t.co/t48zRumIdkNothing': 1, u'second.': 1, u'DEA': 1, u'https://t.co/CrYUM2AkXC@ThomTillis': 1, u'dolt': 1, u'abandon': 1, u'UP,': 1, u'https://t.co/9XfvP8tpJP@ThomTillis': 1, u'comments': 1, u'pen': 1, u'does': 1, u'YOUR': 1, u'?': 1, u'He': 1, u'@WCooksey\\u2026': 1, u'graduates': 1, u'by': 1, u'Tricare.': 1, u'US': 1, u'out!': 1, u'Americans': 1, u'@ThomTillis!': 1, u'@RonDeSantisFL': 1, u'freeing': 1, u'#GOPguttingethics@ThomTillis': 1, u'civil': 1, u'aliens': 1, u'preexisting': 1, u'Two': 1, u'officer-involved': 1, u'additional': 1, u'nomination!': 1, u'@cgpb': 1, u'NC': 1, u'GOP': 1, u'treasonous': 1, u'@BillBrawley': 1, u'Well': 1, u'but': 1, u'Whats': 1, u'Deb': 1, u'highest': 1, u'with': 1, u'https://t.co/1UCmUFmQf9@ThomTillis': 1, u'Tragedies': 1, u'County': 1, u'record': 1, u'suck!': 1, u'this?': 1, u'me?': 1, u'strongly': 1, u'conditions,': 1, u'Weekly!': 1, u'Committee.': 1, u'lifetime': 1, u'shooting': 1, u'denying': 1, u'Thom.@ThomTillis': 1, u'May': 1, u'when': 1, u'u': 1, u'out': 1, u'https://t.co/3oWNXTT8vx@GOP': 1, u'poor': 1, u'UN.@ThomTillis': 1, u'WAKE': 1, u'coverage': 1, u'T\\u2026': 1, u'workers.': 1, u'land': 1, u'desk,\\u201d': 1, u'phone': 1, u'together': 1, u'uncovered': 1, u'As': 1, u'time': 1, u'push': 1})\n"
     ]
    }
   ],
   "source": [
    "from collections import Counter\n",
    "\n",
    "word_list = corpus.split()\n",
    "counts = Counter(word_list)\n",
    "print(counts)"
   ]
  },
  {
   "cell_type": "code",
   "execution_count": 78,
   "metadata": {
    "collapsed": false
   },
   "outputs": [
    {
     "ename": "AttributeError",
     "evalue": "'NoneType' object has no attribute 'split'",
     "output_type": "error",
     "traceback": [
      "\u001b[0;31m---------------------------------------------------------------------------\u001b[0m",
      "\u001b[0;31mAttributeError\u001b[0m                            Traceback (most recent call last)",
      "\u001b[0;32m<ipython-input-78-cfbe5b7e36e7>\u001b[0m in \u001b[0;36m<module>\u001b[0;34m()\u001b[0m\n\u001b[0;32m----> 1\u001b[0;31m \u001b[0mcorpus\u001b[0m\u001b[0;34m.\u001b[0m\u001b[0msplit\u001b[0m\u001b[0;34m(\u001b[0m\u001b[0;34m)\u001b[0m\u001b[0;34m\u001b[0m\u001b[0m\n\u001b[0m",
      "\u001b[0;31mAttributeError\u001b[0m: 'NoneType' object has no attribute 'split'"
     ]
    }
   ],
   "source": [
    "corpus.split()"
   ]
  },
  {
   "cell_type": "code",
   "execution_count": null,
   "metadata": {
    "collapsed": true
   },
   "outputs": [],
   "source": []
  }
 ],
 "metadata": {
  "anaconda-cloud": {},
  "kernelspec": {
   "display_name": "Python [conda env:python2]",
   "language": "python",
   "name": "conda-env-python2-py"
  },
  "language_info": {
   "codemirror_mode": {
    "name": "ipython",
    "version": 2
   },
   "file_extension": ".py",
   "mimetype": "text/x-python",
   "name": "python",
   "nbconvert_exporter": "python",
   "pygments_lexer": "ipython2",
   "version": "2.7.12"
  }
 },
 "nbformat": 4,
 "nbformat_minor": 1
}
